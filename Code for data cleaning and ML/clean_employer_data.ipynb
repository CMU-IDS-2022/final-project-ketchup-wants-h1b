{
 "cells": [
  {
   "cell_type": "code",
   "execution_count": 1,
   "metadata": {},
   "outputs": [],
   "source": [
    "import pandas as pd"
   ]
  },
  {
   "cell_type": "code",
   "execution_count": 51,
   "metadata": {},
   "outputs": [],
   "source": [
    "employer2019 = pd.read_csv('h1b_datahubexport-2019.csv')\n",
    "employer2020 = pd.read_csv('h1b_datahubexport-2020.csv')\n",
    "employer2021 = pd.read_csv('h1b_datahubexport-2021.csv')"
   ]
  },
  {
   "cell_type": "code",
   "execution_count": 53,
   "metadata": {},
   "outputs": [],
   "source": [
    "employer2019.columns = employer2020.columns"
   ]
  },
  {
   "cell_type": "code",
   "execution_count": 55,
   "metadata": {},
   "outputs": [
    {
     "data": {
      "text/plain": [
       "Index(['Fiscal Year', 'Employer', 'Initial Approval', 'Initial Denial',\n",
       "       'Continuing Approval', 'Continuing Denial', 'NAICS', 'Tax ID', 'State',\n",
       "       'City', 'ZIP'],\n",
       "      dtype='object')"
      ]
     },
     "execution_count": 55,
     "metadata": {},
     "output_type": "execute_result"
    }
   ],
   "source": [
    "employer2020.columns"
   ]
  },
  {
   "cell_type": "code",
   "execution_count": 56,
   "metadata": {},
   "outputs": [
    {
     "name": "stdout",
     "output_type": "stream",
     "text": [
      "<class 'pandas.core.frame.DataFrame'>\n",
      "RangeIndex: 59441 entries, 0 to 59440\n",
      "Data columns (total 11 columns):\n",
      " #   Column               Non-Null Count  Dtype  \n",
      "---  ------               --------------  -----  \n",
      " 0   Fiscal Year          59441 non-null  int64  \n",
      " 1   Employer             59440 non-null  object \n",
      " 2   Initial Approval     59441 non-null  int64  \n",
      " 3   Initial Denial       59441 non-null  int64  \n",
      " 4   Continuing Approval  59441 non-null  int64  \n",
      " 5   Continuing Denial    59441 non-null  int64  \n",
      " 6   NAICS                59441 non-null  int64  \n",
      " 7   Tax ID               59206 non-null  float64\n",
      " 8   State                59437 non-null  object \n",
      " 9   City                 59441 non-null  object \n",
      " 10  ZIP                  59437 non-null  float64\n",
      "dtypes: float64(2), int64(6), object(3)\n",
      "memory usage: 5.0+ MB\n"
     ]
    }
   ],
   "source": [
    "employer2019.info()"
   ]
  },
  {
   "cell_type": "code",
   "execution_count": 45,
   "metadata": {},
   "outputs": [
    {
     "name": "stdout",
     "output_type": "stream",
     "text": [
      "<class 'pandas.core.frame.DataFrame'>\n",
      "RangeIndex: 55239 entries, 0 to 55238\n",
      "Data columns (total 11 columns):\n",
      " #   Column               Non-Null Count  Dtype  \n",
      "---  ------               --------------  -----  \n",
      " 0   Fiscal Year          55239 non-null  int64  \n",
      " 1   Employer             55236 non-null  object \n",
      " 2   Initial Approval     55239 non-null  int64  \n",
      " 3   Initial Denial       55239 non-null  int64  \n",
      " 4   Continuing Approval  55239 non-null  int64  \n",
      " 5   Continuing Denial    55239 non-null  int64  \n",
      " 6   NAICS                55239 non-null  int64  \n",
      " 7   Tax ID               55124 non-null  float64\n",
      " 8   State                55237 non-null  object \n",
      " 9   City                 55239 non-null  object \n",
      " 10  ZIP                  55237 non-null  float64\n",
      "dtypes: float64(2), int64(6), object(3)\n",
      "memory usage: 4.6+ MB\n"
     ]
    }
   ],
   "source": [
    "employer2020.info()"
   ]
  },
  {
   "cell_type": "code",
   "execution_count": 57,
   "metadata": {},
   "outputs": [],
   "source": [
    "employer = pd.concat([employer2019, employer2020, employer2021])"
   ]
  },
  {
   "cell_type": "code",
   "execution_count": 59,
   "metadata": {},
   "outputs": [],
   "source": [
    "employer['Approval'] = employer['Initial Approval'] + employer['Continuing Approval']\n",
    "employer['Denial'] = employer['Initial Denial'] + employer['Continuing Denial']"
   ]
  },
  {
   "cell_type": "code",
   "execution_count": 61,
   "metadata": {},
   "outputs": [],
   "source": [
    "employer.drop(['Initial Approval', 'Initial Denial',\n",
    "       'Continuing Approval', 'Continuing Denial', 'NAICS', 'Tax ID'], axis = 1, inplace=True)"
   ]
  },
  {
   "cell_type": "code",
   "execution_count": 65,
   "metadata": {},
   "outputs": [],
   "source": [
    "employer.to_csv('h1b_employers.csv')"
   ]
  },
  {
   "cell_type": "code",
   "execution_count": null,
   "metadata": {},
   "outputs": [],
   "source": []
  }
 ],
 "metadata": {
  "interpreter": {
   "hash": "aee8b7b246df8f9039afb4144a1f6fd8d2ca17a180786b69acc140d282b71a49"
  },
  "kernelspec": {
   "display_name": "Python 3.9.5 64-bit",
   "language": "python",
   "name": "python3"
  },
  "language_info": {
   "codemirror_mode": {
    "name": "ipython",
    "version": 3
   },
   "file_extension": ".py",
   "mimetype": "text/x-python",
   "name": "python",
   "nbconvert_exporter": "python",
   "pygments_lexer": "ipython3",
   "version": "3.9.5"
  },
  "orig_nbformat": 4
 },
 "nbformat": 4,
 "nbformat_minor": 2
}
