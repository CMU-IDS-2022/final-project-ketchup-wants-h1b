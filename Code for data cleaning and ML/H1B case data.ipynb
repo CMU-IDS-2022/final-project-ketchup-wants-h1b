{
 "cells": [
  {
   "cell_type": "code",
   "execution_count": 4,
   "metadata": {},
   "outputs": [],
   "source": [
    "import pandas as pd"
   ]
  },
  {
   "cell_type": "code",
   "execution_count": 35,
   "metadata": {},
   "outputs": [],
   "source": [
    "perm_2019 = pd.read_excel('PERM_FY2019.xlsx')\n",
    "perm_2020 = pd.read_excel('PERM_Disclosure_Data_FY2020.xlsx')\n",
    "perm_2021 = pd.read_excel('PERM_Disclosure_Data_FY2021.xlsx')"
   ]
  },
  {
   "cell_type": "code",
   "execution_count": 36,
   "metadata": {},
   "outputs": [],
   "source": [
    "# Filter out non H-1B \n",
    "perm_2019 = perm_2019[perm_2019['CLASS_OF_ADMISSION'] == 'H-1B']\n",
    "perm_2020 = perm_2020[perm_2020['CLASS_OF_ADMISSION'] == 'H-1B']\n",
    "perm_2021 = perm_2021[perm_2021['CLASS_OF_ADMISSION'] == 'H-1B']"
   ]
  },
  {
   "cell_type": "code",
   "execution_count": 37,
   "metadata": {},
   "outputs": [
    {
     "data": {
      "text/plain": [
       "['CASE_NUMBER',\n",
       " 'DECISION_DATE',\n",
       " 'CASE_STATUS',\n",
       " 'CASE_RECEIVED_DATE',\n",
       " 'REFILE',\n",
       " 'ORIG_FILE_DATE',\n",
       " 'ORIG_CASE_NO',\n",
       " 'SCHD_A_SHEEPHERDER',\n",
       " 'EMPLOYER_NAME',\n",
       " 'EMPLOYER_ADDRESS_1',\n",
       " 'EMPLOYER_ADDRESS_2',\n",
       " 'EMPLOYER_CITY',\n",
       " 'EMPLOYER_STATE',\n",
       " 'EMPLOYER_COUNTRY',\n",
       " 'EMPLOYER_POSTAL_CODE',\n",
       " 'EMPLOYER_PHONE',\n",
       " 'EMPLOYER_PHONE_EXT',\n",
       " 'EMPLOYER_NUM_EMPLOYEES',\n",
       " 'EMPLOYER_YR_ESTAB',\n",
       " 'FW_OWNERSHIP_INTEREST',\n",
       " 'AGENT_FIRM_NAME',\n",
       " 'AGENT_CITY',\n",
       " 'AGENT_STATE',\n",
       " 'PW_TRACK_NUM',\n",
       " 'PW_SOC_CODE',\n",
       " 'PW_SOC_TITLE',\n",
       " 'PW_LEVEL_9089',\n",
       " 'PW_AMOUNT_9089',\n",
       " 'PW_UNIT_OF_PAY_9089',\n",
       " 'PW_SOURCE_NAME_9089',\n",
       " 'PW_SOURCE_NAME_OTHER_9089',\n",
       " 'PW_DETERM_DATE',\n",
       " 'PW_EXPIRE_DATE',\n",
       " 'WAGE_OFFERED_FROM_9089',\n",
       " 'WAGE_OFFERED_TO_9089',\n",
       " 'WAGE_OFFER_UNIT_OF_PAY_9089',\n",
       " 'JOB_INFO_WORK_CITY',\n",
       " 'JOB_INFO_WORK_STATE',\n",
       " 'JOB_INFO_WORK_POSTAL_CODE',\n",
       " 'JOB_INFO_JOB_TITLE',\n",
       " 'JOB_INFO_EDUCATION',\n",
       " 'JOB_INFO_EDUCATION_OTHER',\n",
       " 'JOB_INFO_MAJOR',\n",
       " 'JOB_INFO_TRAINING',\n",
       " 'JOB_INFO_TRAINING_NUM_MONTHS',\n",
       " 'JOB_INFO_TRAINING_FIELD',\n",
       " 'JOB_INFO_EXPERIENCE',\n",
       " 'JOB_INFO_EXPERIENCE_NUM_MONTHS',\n",
       " 'JOB_INFO_ALT_FIELD',\n",
       " 'JOB_INFO_ALT_FIELD_NAME',\n",
       " 'JOB_INFO_ALT_COMBO_ED_EXP',\n",
       " 'JOB_INFO_ALT_COMBO_ED_EXP.1',\n",
       " 'JOB_INFO_ALT_COMBO_ED_OTHER',\n",
       " 'JOB_INFO_ALT_CMB_ED_OTH_YRS',\n",
       " 'JOB_INFO_FOREIGN_ED',\n",
       " 'JOB_INFO_ALT_OCC',\n",
       " 'JOB_INFO_ALT_OCC_NUM_MONTHS',\n",
       " 'JOB_INFO_ALT_OCC_JOB_TITLE',\n",
       " 'JOB_INFO_JOB_REQ_NORMAL',\n",
       " 'JOB_INFO_FOREIGN_LANG_REQ',\n",
       " 'JOB_INFO_COMBO_OCCUPATION',\n",
       " 'JI_OFFERED_TO_SEC_J_FW',\n",
       " 'JI_FW_LIVE_ON_PREMISES',\n",
       " 'JI_LIVE_IN_DOMESTIC_SERVICE',\n",
       " 'JI_LIVE_IN_DOM_SVC_CONTRACT',\n",
       " 'RECR_INFO_PROFESSIONAL_OCC',\n",
       " 'RECR_INFO_COLL_UNIV_TEACHER',\n",
       " 'RECR_INFO_COLL_TEACH_COMP_PROC',\n",
       " 'RI_COLL_TCH_BASIC_PROCESS',\n",
       " 'RI_COLL_TEACH_SELECT_DATE',\n",
       " 'RI_COLL_TEACH_PRO_JNL',\n",
       " 'RECR_INFO_SWA_JOB_ORDER_START',\n",
       " 'RECR_INFO_SWA_JOB_ORDER_END',\n",
       " 'RECR_INFO_SUNDAY_NEWSPAPER',\n",
       " 'RI_1ST_AD_NEWSPAPER_NAME',\n",
       " 'RECR_INFO_FIRST_AD_START',\n",
       " 'RI_2ND_AD_NEWSPAPER_NAME',\n",
       " 'RI_2ND_AD_NEWSPAPER_OR_JOURNAL',\n",
       " 'RECR_INFO_SECOND_AD_START',\n",
       " 'RECR_INFO_JOB_FAIR_FROM',\n",
       " 'RECR_INFO_JOB_FAIR_TO',\n",
       " 'RECR_INFO_ON_CAMPUS_RECR_FROM',\n",
       " 'RECR_INFO_ON_CAMPUS_RECR_TO',\n",
       " 'RI_EMPLOYER_WEB_POST_FROM',\n",
       " 'RI_EMPLOYER_WEB_POST_TO',\n",
       " 'RECR_INFO_PRO_ORG_ADVERT_FROM',\n",
       " 'RECR_INFO_PRO_ORG_ADVERT_TO',\n",
       " 'RI_JOB_SEARCH_WEBSITE_FROM',\n",
       " 'RI_JOB_SEARCH_WEBSITE_TO',\n",
       " 'RI_PVT_EMPLOYMENT_FIRM_FROM',\n",
       " 'RI_PVT_EMPLOYMENT_FIRM_TO',\n",
       " 'RI_EMPLOYEE_REFERRAL_PROG_FROM',\n",
       " 'RI_EMPLOYEE_REFERRAL_PROG_TO',\n",
       " 'RI_CAMPUS_PLACEMENT_FROM',\n",
       " 'RI_CAMPUS_PLACEMENT_TO',\n",
       " 'RI_LOCAL_ETHNIC_PAPER_FROM',\n",
       " 'RI_LOCAL_ETHNIC_PAPER_TO',\n",
       " 'RECR_INFO_RADIO_TV_AD_FROM',\n",
       " 'RECR_INFO_RADIO_TV_AD_TO',\n",
       " 'RECR_INFO_EMPLOYER_REC_PAYMENT',\n",
       " 'RECR_INFO_BARG_REP_NOTIFIED',\n",
       " 'RI_POSTED_NOTICE_AT_WORKSITE',\n",
       " 'RI_LAYOFF_IN_PAST_SIX_MONTHS',\n",
       " 'RI_US_WORKERS_CONSIDERED',\n",
       " 'FOREIGN_WORKER_INFO_CITY',\n",
       " 'FOREIGN_WORKER_INFO_STATE',\n",
       " 'FW_INFO_POSTAL_CODE',\n",
       " 'COUNTRY_OF_CITIZENSHIP',\n",
       " 'FW_INFO_BIRTH_COUNTRY',\n",
       " 'CLASS_OF_ADMISSION',\n",
       " 'FOREIGN_WORKER_INFO_EDUCATION',\n",
       " 'FW_INFO_EDUCATION_OTHER',\n",
       " 'FOREIGN_WORKER_INFO_MAJOR',\n",
       " 'FW_INFO_YR_REL_EDU_COMPLETED',\n",
       " 'FOREIGN_WORKER_INFO_INST',\n",
       " 'FW_INFO_TRAINING_COMP',\n",
       " 'FW_INFO_REQ_EXPERIENCE',\n",
       " 'FW_INFO_ALT_EDU_EXPERIENCE',\n",
       " 'FW_INFO_REL_OCCUP_EXP',\n",
       " 'PREPARER_INFO_EMP_COMPLETED',\n",
       " 'PREPARER_INFO_TITLE',\n",
       " 'EMPLOYER_DECL_INFO_TITLE',\n",
       " 'NAICS_US_CODE',\n",
       " 'NAICS_US_TITLE',\n",
       " 'PW_JOB_TITLE']"
      ]
     },
     "execution_count": 37,
     "metadata": {},
     "output_type": "execute_result"
    }
   ],
   "source": [
    "list(perm_2019.columns)"
   ]
  },
  {
   "cell_type": "code",
   "execution_count": 43,
   "metadata": {},
   "outputs": [],
   "source": [
    "columns_to_keep_19 =['CASE_NUMBER',\n",
    "'CASE_STATUS',\n",
    "'CASE_RECEIVED_DATE',\n",
    "'DECISION_DATE',\n",
    "'EMPLOYER_NAME', \n",
    "'EMPLOYER_CITY',\n",
    "'EMPLOYER_STATE',\n",
    "'EMPLOYER_POSTAL_CODE', \n",
    "'EMPLOYER_NUM_EMPLOYEES',\n",
    "'WAGE_OFFERED_FROM_9089',\n",
    "'WAGE_OFFERED_TO_9089',\n",
    "'WAGE_OFFER_UNIT_OF_PAY_9089',\n",
    "'JOB_INFO_WORK_CITY',\n",
    "'JOB_INFO_WORK_STATE',\n",
    "'JOB_INFO_WORK_POSTAL_CODE',\n",
    "'JOB_INFO_JOB_TITLE',\n",
    "'JOB_INFO_EDUCATION',\n",
    "'JOB_INFO_MAJOR',\n",
    "'COUNTRY_OF_CITIZENSHIP',\n",
    "'FW_INFO_BIRTH_COUNTRY',\n",
    "'FOREIGN_WORKER_INFO_EDUCATION',\n",
    "'FOREIGN_WORKER_INFO_MAJOR',\n",
    "'FW_INFO_YR_REL_EDU_COMPLETED',\n",
    "'FOREIGN_WORKER_INFO_INST']"
   ]
  },
  {
   "cell_type": "code",
   "execution_count": 44,
   "metadata": {},
   "outputs": [],
   "source": [
    "perm_2019 = perm_2019[columns_to_keep_19]"
   ]
  },
  {
   "cell_type": "code",
   "execution_count": 46,
   "metadata": {},
   "outputs": [],
   "source": [
    "columns_to_keep_20 = [\n",
    " 'CASE_NUMBER',\n",
    " 'CASE_STATUS',\n",
    " 'RECEIVED_DATE',\n",
    " 'DECISION_DATE',\n",
    " 'EMPLOYER_NAME',\n",
    " 'EMPLOYER_CITY',\n",
    " 'EMPLOYER_STATE_PROVINCE',\n",
    " 'EMPLOYER_POSTAL_CODE',\n",
    " 'EMPLOYER_NUM_EMPLOYEES',\n",
    " 'WAGE_OFFER_FROM',\n",
    " 'WAGE_OFFER_TO',\n",
    " 'WAGE_OFFER_UNIT_OF_PAY',\n",
    " 'WORKSITE_CITY',\n",
    " 'WORKSITE_STATE',\n",
    " 'WORKSITE_POSTAL_CODE',\n",
    " 'JOB_TITLE',\n",
    " 'MINIMUM_EDUCATION', \n",
    " 'MAJOR_FIELD_OF_STUDY',\n",
    " 'COUNTRY_OF_CITIZENSHIP',\n",
    " 'FOREIGN_WORKER_BIRTH_COUNTRY',\n",
    " 'FOREIGN_WORKER_EDUCATION',\n",
    " 'FOREIGN_WORKER_INFO_MAJOR',\n",
    " 'FOREIGN_WORKER_YRS_ED_COMP',\n",
    " 'FOREIGN_WORKER_INST_OF_ED'\n",
    "]"
   ]
  },
  {
   "cell_type": "code",
   "execution_count": 47,
   "metadata": {},
   "outputs": [],
   "source": [
    "perm_2020 = perm_2020[columns_to_keep_20]\n",
    "perm_2021 = perm_2021[columns_to_keep_20]"
   ]
  },
  {
   "cell_type": "code",
   "execution_count": 48,
   "metadata": {},
   "outputs": [],
   "source": [
    "perm_2019.columns = perm_2020.columns"
   ]
  },
  {
   "cell_type": "code",
   "execution_count": 53,
   "metadata": {},
   "outputs": [],
   "source": [
    "h1b_application = pd.concat([perm_2019, perm_2020, perm_2021])"
   ]
  },
  {
   "cell_type": "code",
   "execution_count": 55,
   "metadata": {},
   "outputs": [],
   "source": [
    "h1b_application.to_csv('h1b_application_data.csv')"
   ]
  },
  {
   "cell_type": "code",
   "execution_count": 4,
   "metadata": {},
   "outputs": [
    {
     "data": {
      "text/plain": [
       "array(['Certified-Expired', 'Denied', 'Withdrawn', 'Certified'],\n",
       "      dtype=object)"
      ]
     },
     "execution_count": 4,
     "metadata": {},
     "output_type": "execute_result"
    }
   ],
   "source": [
    "h1b_application.CASE_STATUS.unique()"
   ]
  },
  {
   "cell_type": "code",
   "execution_count": 12,
   "metadata": {},
   "outputs": [],
   "source": [
    "# only keep the rows with status equals to certified or denied\n",
    "\n",
    "h1b_application = h1b_application[h1b_application['CASE_STATUS'].isin(['Denied', 'Certified'])]\n",
    "h1b_application.drop(['Unnamed: 0'], axis = 1, inplace = True)"
   ]
  },
  {
   "cell_type": "code",
   "execution_count": 15,
   "metadata": {},
   "outputs": [
    {
     "data": {
      "text/plain": [
       "Index(['CASE_NUMBER', 'CASE_STATUS', 'RECEIVED_DATE', 'DECISION_DATE',\n",
       "       'EMPLOYER_NAME', 'EMPLOYER_CITY', 'EMPLOYER_STATE_PROVINCE',\n",
       "       'EMPLOYER_POSTAL_CODE', 'EMPLOYER_NUM_EMPLOYEES', 'WAGE_OFFER_FROM',\n",
       "       'WAGE_OFFER_TO', 'WAGE_OFFER_UNIT_OF_PAY', 'WORKSITE_CITY',\n",
       "       'WORKSITE_STATE', 'WORKSITE_POSTAL_CODE', 'JOB_TITLE',\n",
       "       'MINIMUM_EDUCATION', 'MAJOR_FIELD_OF_STUDY', 'COUNTRY_OF_CITIZENSHIP',\n",
       "       'FOREIGN_WORKER_BIRTH_COUNTRY', 'FOREIGN_WORKER_EDUCATION',\n",
       "       'FOREIGN_WORKER_INFO_MAJOR', 'FOREIGN_WORKER_YRS_ED_COMP',\n",
       "       'FOREIGN_WORKER_INST_OF_ED'],\n",
       "      dtype='object')"
      ]
     },
     "execution_count": 15,
     "metadata": {},
     "output_type": "execute_result"
    }
   ],
   "source": [
    "h1b_application.columns"
   ]
  },
  {
   "cell_type": "code",
   "execution_count": 14,
   "metadata": {},
   "outputs": [
    {
     "data": {
      "text/plain": [
       "CASE_NUMBER                         0\n",
       "CASE_STATUS                         0\n",
       "RECEIVED_DATE                       0\n",
       "DECISION_DATE                       0\n",
       "EMPLOYER_NAME                       0\n",
       "EMPLOYER_CITY                       0\n",
       "EMPLOYER_STATE_PROVINCE             2\n",
       "EMPLOYER_POSTAL_CODE                0\n",
       "EMPLOYER_NUM_EMPLOYEES            292\n",
       "WAGE_OFFER_FROM                     1\n",
       "WAGE_OFFER_TO                   73666\n",
       "WAGE_OFFER_UNIT_OF_PAY              0\n",
       "WORKSITE_CITY                       0\n",
       "WORKSITE_STATE                      0\n",
       "WORKSITE_POSTAL_CODE                0\n",
       "JOB_TITLE                           1\n",
       "MINIMUM_EDUCATION                   0\n",
       "MAJOR_FIELD_OF_STUDY              950\n",
       "COUNTRY_OF_CITIZENSHIP              3\n",
       "FOREIGN_WORKER_BIRTH_COUNTRY      289\n",
       "FOREIGN_WORKER_EDUCATION            0\n",
       "FOREIGN_WORKER_INFO_MAJOR        1074\n",
       "FOREIGN_WORKER_YRS_ED_COMP       1048\n",
       "FOREIGN_WORKER_INST_OF_ED        1062\n",
       "dtype: int64"
      ]
     },
     "execution_count": 14,
     "metadata": {},
     "output_type": "execute_result"
    }
   ],
   "source": [
    "h1b_application.isna().sum()"
   ]
  },
  {
   "cell_type": "code",
   "execution_count": 17,
   "metadata": {},
   "outputs": [],
   "source": [
    "columns = ['CASE_NUMBER', 'CASE_STATUS', 'RECEIVED_DATE', 'DECISION_DATE','EMPLOYER_NAME','EMPLOYER_NUM_EMPLOYEES', 'WORKSITE_CITY',\n",
    "       'WORKSITE_STATE', 'WAGE_OFFER_FROM','JOB_TITLE', 'COUNTRY_OF_CITIZENSHIP','FOREIGN_WORKER_EDUCATION','FOREIGN_WORKER_INFO_MAJOR']\n",
    "\n",
    "h1b_application_new = h1b_application[columns]"
   ]
  },
  {
   "cell_type": "code",
   "execution_count": 20,
   "metadata": {},
   "outputs": [
    {
     "data": {
      "text/plain": [
       "CASE_NUMBER                     0\n",
       "CASE_STATUS                     0\n",
       "RECEIVED_DATE                   0\n",
       "DECISION_DATE                   0\n",
       "EMPLOYER_NAME                   0\n",
       "EMPLOYER_NUM_EMPLOYEES        292\n",
       "WORKSITE_CITY                   0\n",
       "WORKSITE_STATE                  0\n",
       "WAGE_OFFER_FROM                 1\n",
       "JOB_TITLE                       1\n",
       "COUNTRY_OF_CITIZENSHIP          3\n",
       "FOREIGN_WORKER_EDUCATION        0\n",
       "FOREIGN_WORKER_INFO_MAJOR    1074\n",
       "dtype: int64"
      ]
     },
     "execution_count": 20,
     "metadata": {},
     "output_type": "execute_result"
    }
   ],
   "source": [
    "h1b_application_new.isna().sum()"
   ]
  },
  {
   "cell_type": "code",
   "execution_count": 23,
   "metadata": {},
   "outputs": [
    {
     "name": "stderr",
     "output_type": "stream",
     "text": [
      "/Library/Frameworks/Python.framework/Versions/3.9/lib/python3.9/site-packages/pandas/util/_decorators.py:311: SettingWithCopyWarning: \n",
      "A value is trying to be set on a copy of a slice from a DataFrame\n",
      "\n",
      "See the caveats in the documentation: https://pandas.pydata.org/pandas-docs/stable/user_guide/indexing.html#returning-a-view-versus-a-copy\n",
      "  return func(*args, **kwargs)\n"
     ]
    }
   ],
   "source": [
    "h1b_application_new.dropna(inplace = True)"
   ]
  },
  {
   "cell_type": "code",
   "execution_count": 30,
   "metadata": {},
   "outputs": [
    {
     "data": {
      "text/plain": [
       "COMPUTER SCIENCE                                                   19558\n",
       "COMPUTER ENGINEERING                                                8608\n",
       "ELECTRICAL ENGINEERING                                              7775\n",
       "BUSINESS ADMINISTRATION                                             4512\n",
       "INFORMATION TECHNOLOGY                                              4046\n",
       "                                                                   ...  \n",
       "HEALTH ADMINISTRATION RELATED TO ADMINISTRATION                        1\n",
       "TEXTILE SCIENCES                                                       1\n",
       "FRENCH TEACHING                                                        1\n",
       "INFORMATION SCIENCE  ENGINEERING COMPUTER SCIENCE                      1\n",
       "ENGINEERINGMEASURING AND CONTROL TECHNOLOGY AND INSTRUMENTATION        1\n",
       "Name: FOREIGN_WORKER_INFO_MAJOR, Length: 11265, dtype: int64"
      ]
     },
     "execution_count": 30,
     "metadata": {},
     "output_type": "execute_result"
    }
   ],
   "source": [
    "h1b_application_new.FOREIGN_WORKER_INFO_MAJOR.value_counts()"
   ]
  },
  {
   "cell_type": "markdown",
   "metadata": {},
   "source": [
    "ＭＯＤＥＬ：Logistic regression\n",
    "ＰＲＥＤＩＣＴＩＯＮ: certified or denied\n",
    "ＩＭＰＵＴ ＰＡＲＡＭＥＴＥＲＳ：\n",
    "- employer's name\n",
    "- petition year\n",
    "- worksite (city + state)\n",
    "- job title\n",
    "- full time or part time\n",
    "- wage\n",
    "- citizenship\n",
    "- major"
   ]
  },
  {
   "cell_type": "code",
   "execution_count": 36,
   "metadata": {},
   "outputs": [
    {
     "data": {
      "text/html": [
       "<div>\n",
       "<style scoped>\n",
       "    .dataframe tbody tr th:only-of-type {\n",
       "        vertical-align: middle;\n",
       "    }\n",
       "\n",
       "    .dataframe tbody tr th {\n",
       "        vertical-align: top;\n",
       "    }\n",
       "\n",
       "    .dataframe thead th {\n",
       "        text-align: right;\n",
       "    }\n",
       "</style>\n",
       "<table border=\"1\" class=\"dataframe\">\n",
       "  <thead>\n",
       "    <tr style=\"text-align: right;\">\n",
       "      <th></th>\n",
       "      <th>CASE_NUMBER</th>\n",
       "      <th>CASE_STATUS</th>\n",
       "      <th>RECEIVED_DATE</th>\n",
       "      <th>DECISION_DATE</th>\n",
       "      <th>EMPLOYER_NAME</th>\n",
       "      <th>EMPLOYER_NUM_EMPLOYEES</th>\n",
       "      <th>WORKSITE_CITY</th>\n",
       "      <th>WORKSITE_STATE</th>\n",
       "      <th>WAGE_OFFER_FROM</th>\n",
       "      <th>JOB_TITLE</th>\n",
       "      <th>COUNTRY_OF_CITIZENSHIP</th>\n",
       "      <th>FOREIGN_WORKER_EDUCATION</th>\n",
       "      <th>FOREIGN_WORKER_INFO_MAJOR</th>\n",
       "    </tr>\n",
       "  </thead>\n",
       "  <tbody>\n",
       "    <tr>\n",
       "      <th>8</th>\n",
       "      <td>A-18038-41047</td>\n",
       "      <td>Denied</td>\n",
       "      <td>2018-03-26</td>\n",
       "      <td>2018-10-01</td>\n",
       "      <td>NAZTEC INTERNATIONAL GROUP LLC</td>\n",
       "      <td>59.0</td>\n",
       "      <td>West Palm Beach</td>\n",
       "      <td>FLORIDA</td>\n",
       "      <td>95618.0</td>\n",
       "      <td>Business Intellingence Analyst</td>\n",
       "      <td>INDIA</td>\n",
       "      <td>Bachelor's</td>\n",
       "      <td>BIOINFORMATICS</td>\n",
       "    </tr>\n",
       "    <tr>\n",
       "      <th>10</th>\n",
       "      <td>A-18039-41598</td>\n",
       "      <td>Denied</td>\n",
       "      <td>2018-03-27</td>\n",
       "      <td>2018-10-01</td>\n",
       "      <td>NAZTEC INTERNATIONAL GROUP LLC</td>\n",
       "      <td>59.0</td>\n",
       "      <td>West Palm Beach</td>\n",
       "      <td>FLORIDA</td>\n",
       "      <td>99840.0</td>\n",
       "      <td>Software Developers, System Software</td>\n",
       "      <td>INDIA</td>\n",
       "      <td>Master's</td>\n",
       "      <td>COMPUTER SCIENCE</td>\n",
       "    </tr>\n",
       "    <tr>\n",
       "      <th>11</th>\n",
       "      <td>A-18051-45341</td>\n",
       "      <td>Denied</td>\n",
       "      <td>2018-03-26</td>\n",
       "      <td>2018-10-01</td>\n",
       "      <td>NAZTEC INTERNATIONAL GROUP LLC</td>\n",
       "      <td>59.0</td>\n",
       "      <td>West Palm Beach</td>\n",
       "      <td>FLORIDA</td>\n",
       "      <td>99840.0</td>\n",
       "      <td>Software Developers, System Software</td>\n",
       "      <td>INDIA</td>\n",
       "      <td>Bachelor's</td>\n",
       "      <td>CIVIL ENGINEERING</td>\n",
       "    </tr>\n",
       "    <tr>\n",
       "      <th>21</th>\n",
       "      <td>A-18068-51106</td>\n",
       "      <td>Denied</td>\n",
       "      <td>2018-03-22</td>\n",
       "      <td>2018-10-01</td>\n",
       "      <td>LAUNCH IT CORP</td>\n",
       "      <td>54.0</td>\n",
       "      <td>Urbandale</td>\n",
       "      <td>IOWA</td>\n",
       "      <td>103958.0</td>\n",
       "      <td>Computer Programmer</td>\n",
       "      <td>INDIA</td>\n",
       "      <td>Bachelor's</td>\n",
       "      <td>MECHANICAL ENGINEERING</td>\n",
       "    </tr>\n",
       "    <tr>\n",
       "      <th>55</th>\n",
       "      <td>A-18205-00752</td>\n",
       "      <td>Denied</td>\n",
       "      <td>2018-08-05</td>\n",
       "      <td>2018-10-01</td>\n",
       "      <td>CONSUMERS ENERGY</td>\n",
       "      <td>7175.0</td>\n",
       "      <td>Ludington</td>\n",
       "      <td>MICHIGAN</td>\n",
       "      <td>110040.0</td>\n",
       "      <td>Project Manager</td>\n",
       "      <td>CANADA</td>\n",
       "      <td>Bachelor's</td>\n",
       "      <td>MECHANICAL ENGINEERING</td>\n",
       "    </tr>\n",
       "    <tr>\n",
       "      <th>82</th>\n",
       "      <td>A-18026-35708</td>\n",
       "      <td>Denied</td>\n",
       "      <td>2018-03-02</td>\n",
       "      <td>2018-10-02</td>\n",
       "      <td>APTIFY</td>\n",
       "      <td>94.0</td>\n",
       "      <td>Tysons Corner</td>\n",
       "      <td>VIRGINIA</td>\n",
       "      <td>189779.0</td>\n",
       "      <td>Director for Cloud Operations</td>\n",
       "      <td>INDIA</td>\n",
       "      <td>Master's</td>\n",
       "      <td>COMPUTER SCIENCE</td>\n",
       "    </tr>\n",
       "    <tr>\n",
       "      <th>104</th>\n",
       "      <td>A-18068-51264</td>\n",
       "      <td>Denied</td>\n",
       "      <td>2018-03-16</td>\n",
       "      <td>2018-10-02</td>\n",
       "      <td>AMAZON FULFILLMENT SERVICES, INC.</td>\n",
       "      <td>341400.0</td>\n",
       "      <td>New York</td>\n",
       "      <td>NEW YORK</td>\n",
       "      <td>94827.0</td>\n",
       "      <td>Software Development Engineer II</td>\n",
       "      <td>CHINA</td>\n",
       "      <td>Master's</td>\n",
       "      <td>COMPUTER SCIENCE</td>\n",
       "    </tr>\n",
       "    <tr>\n",
       "      <th>292</th>\n",
       "      <td>A-18037-40492</td>\n",
       "      <td>Denied</td>\n",
       "      <td>2018-03-26</td>\n",
       "      <td>2018-10-03</td>\n",
       "      <td>NORDSTROM, INC.</td>\n",
       "      <td>72500.0</td>\n",
       "      <td>Seattle</td>\n",
       "      <td>WASHINGTON</td>\n",
       "      <td>107000.0</td>\n",
       "      <td>Senior UX Researcher</td>\n",
       "      <td>TAIWAN</td>\n",
       "      <td>Master's</td>\n",
       "      <td>INFORMATION</td>\n",
       "    </tr>\n",
       "    <tr>\n",
       "      <th>307</th>\n",
       "      <td>A-18066-50190</td>\n",
       "      <td>Denied</td>\n",
       "      <td>2018-03-26</td>\n",
       "      <td>2018-10-03</td>\n",
       "      <td>NEW YORK FILM ACADEMY, LTD.</td>\n",
       "      <td>900.0</td>\n",
       "      <td>Burbank</td>\n",
       "      <td>CALIFORNIA</td>\n",
       "      <td>65550.0</td>\n",
       "      <td>Accounting Manager</td>\n",
       "      <td>CHINA</td>\n",
       "      <td>Master's</td>\n",
       "      <td>ACCOUNTING</td>\n",
       "    </tr>\n",
       "    <tr>\n",
       "      <th>320</th>\n",
       "      <td>A-18086-56777</td>\n",
       "      <td>Denied</td>\n",
       "      <td>2018-03-28</td>\n",
       "      <td>2018-10-03</td>\n",
       "      <td>Faya Corporation</td>\n",
       "      <td>25.0</td>\n",
       "      <td>Ontario</td>\n",
       "      <td>CALIFORNIA</td>\n",
       "      <td>72800.0</td>\n",
       "      <td>Software Developer</td>\n",
       "      <td>INDIA</td>\n",
       "      <td>Bachelor's</td>\n",
       "      <td>ELECTRONICS AND COMMUNICATION</td>\n",
       "    </tr>\n",
       "  </tbody>\n",
       "</table>\n",
       "</div>"
      ],
      "text/plain": [
       "       CASE_NUMBER CASE_STATUS RECEIVED_DATE DECISION_DATE  \\\n",
       "8    A-18038-41047      Denied    2018-03-26    2018-10-01   \n",
       "10   A-18039-41598      Denied    2018-03-27    2018-10-01   \n",
       "11   A-18051-45341      Denied    2018-03-26    2018-10-01   \n",
       "21   A-18068-51106      Denied    2018-03-22    2018-10-01   \n",
       "55   A-18205-00752      Denied    2018-08-05    2018-10-01   \n",
       "82   A-18026-35708      Denied    2018-03-02    2018-10-02   \n",
       "104  A-18068-51264      Denied    2018-03-16    2018-10-02   \n",
       "292  A-18037-40492      Denied    2018-03-26    2018-10-03   \n",
       "307  A-18066-50190      Denied    2018-03-26    2018-10-03   \n",
       "320  A-18086-56777      Denied    2018-03-28    2018-10-03   \n",
       "\n",
       "                         EMPLOYER_NAME  EMPLOYER_NUM_EMPLOYEES  \\\n",
       "8       NAZTEC INTERNATIONAL GROUP LLC                    59.0   \n",
       "10      NAZTEC INTERNATIONAL GROUP LLC                    59.0   \n",
       "11      NAZTEC INTERNATIONAL GROUP LLC                    59.0   \n",
       "21                      LAUNCH IT CORP                    54.0   \n",
       "55                    CONSUMERS ENERGY                  7175.0   \n",
       "82                              APTIFY                    94.0   \n",
       "104  AMAZON FULFILLMENT SERVICES, INC.                341400.0   \n",
       "292                    NORDSTROM, INC.                 72500.0   \n",
       "307        NEW YORK FILM ACADEMY, LTD.                   900.0   \n",
       "320                   Faya Corporation                    25.0   \n",
       "\n",
       "       WORKSITE_CITY WORKSITE_STATE  WAGE_OFFER_FROM  \\\n",
       "8    West Palm Beach        FLORIDA          95618.0   \n",
       "10   West Palm Beach        FLORIDA          99840.0   \n",
       "11   West Palm Beach        FLORIDA          99840.0   \n",
       "21         Urbandale           IOWA         103958.0   \n",
       "55         Ludington       MICHIGAN         110040.0   \n",
       "82     Tysons Corner       VIRGINIA         189779.0   \n",
       "104         New York       NEW YORK          94827.0   \n",
       "292          Seattle     WASHINGTON         107000.0   \n",
       "307          Burbank     CALIFORNIA          65550.0   \n",
       "320          Ontario     CALIFORNIA          72800.0   \n",
       "\n",
       "                                JOB_TITLE COUNTRY_OF_CITIZENSHIP  \\\n",
       "8          Business Intellingence Analyst                  INDIA   \n",
       "10   Software Developers, System Software                  INDIA   \n",
       "11   Software Developers, System Software                  INDIA   \n",
       "21                    Computer Programmer                  INDIA   \n",
       "55                        Project Manager                 CANADA   \n",
       "82          Director for Cloud Operations                  INDIA   \n",
       "104      Software Development Engineer II                  CHINA   \n",
       "292                  Senior UX Researcher                 TAIWAN   \n",
       "307                    Accounting Manager                  CHINA   \n",
       "320                    Software Developer                  INDIA   \n",
       "\n",
       "    FOREIGN_WORKER_EDUCATION      FOREIGN_WORKER_INFO_MAJOR  \n",
       "8                 Bachelor's                 BIOINFORMATICS  \n",
       "10                  Master's               COMPUTER SCIENCE  \n",
       "11                Bachelor's              CIVIL ENGINEERING  \n",
       "21                Bachelor's         MECHANICAL ENGINEERING  \n",
       "55                Bachelor's         MECHANICAL ENGINEERING  \n",
       "82                  Master's               COMPUTER SCIENCE  \n",
       "104                 Master's               COMPUTER SCIENCE  \n",
       "292                 Master's                    INFORMATION  \n",
       "307                 Master's                     ACCOUNTING  \n",
       "320               Bachelor's  ELECTRONICS AND COMMUNICATION  "
      ]
     },
     "execution_count": 36,
     "metadata": {},
     "output_type": "execute_result"
    }
   ],
   "source": [
    "h1b_application_new.head(10)"
   ]
  },
  {
   "cell_type": "code",
   "execution_count": 7,
   "metadata": {},
   "outputs": [],
   "source": [
    "tmp = h1b_application_new.FOREIGN_WORKER_INFO_MAJOR.value_counts()[h1b_application_new.FOREIGN_WORKER_INFO_MAJOR.value_counts()>100]"
   ]
  },
  {
   "cell_type": "code",
   "execution_count": 8,
   "metadata": {},
   "outputs": [
    {
     "data": {
      "text/plain": [
       "Index(['COMPUTER SCIENCE', 'COMPUTER ENGINEERING', 'ELECTRICAL ENGINEERING',\n",
       "       'BUSINESS ADMINISTRATION', 'INFORMATION TECHNOLOGY',\n",
       "       'ELECTRONIC ENGINEERING', 'MECHANICAL ENGINEERING',\n",
       "       'COMPUTER APPLICATIONS', 'ELECTRICAL AND COMPUTER ENGINEERING',\n",
       "       'COMPUTER SCIENCE AND ENGINEERING', 'MEDICINE',\n",
       "       'ELECTRONICS ENGINEERING', 'APPLIED COMPUTER SCIENCE', 'ENGINEERING',\n",
       "       'SOFTWARE ENGINEERING', 'COMPUTER INFORMATION SYSTEMS',\n",
       "       'INFORMATION SYSTEMS', 'ELECTRONICS AND COMMUNICATION ENGINEERING',\n",
       "       'ACCOUNTING', 'MANAGEMENT INFORMATION SYSTEMS',\n",
       "       'INDUSTRIAL ENGINEERING', 'CIVIL ENGINEERING', 'STATISTICS',\n",
       "       'ECONOMICS', 'FINANCE', 'ELECTRICAL AND ELECTRONICS ENGINEERING',\n",
       "       'SCIENCE', 'MATHEMATICS', 'ENGINEERING MANAGEMENT',\n",
       "       'COMPUTER SCIENCE  ENGINEERING', 'CHEMICAL ENGINEERING',\n",
       "       'ELECTRICAL AND ELECTRONIC ENGINEERING', 'ENGINEERING (ELECTRONIC)',\n",
       "       'CHEMISTRY', 'ENGINEERING (COMPUTER)', 'PHYSICS', 'ARCHITECTURE',\n",
       "       'INFORMATION TECHNOLOGY AND MANAGEMENT', 'MEDICAL TECHNOLOGY',\n",
       "       'INFORMATION SYSTEMS MANAGEMENT', 'TELECOMMUNICATIONS',\n",
       "       'COMPUTER SCIENCE & ENGINEERING', 'LAW', 'TECHNOLOGY', 'ACCOUNTANCY',\n",
       "       'BIOMEDICAL ENGINEERING', 'FINANCIAL ENGINEERING', 'BUSINESS ANALYTICS',\n",
       "       'COMPUTER AND INFORMATION SCIENCE', 'BIOTECHNOLOGY',\n",
       "       'INFORMATION MANAGEMENT', 'COMPUTER APPLICATION',\n",
       "       'ELECTRONICS  COMMUNICATION ENGINEERING',\n",
       "       'INDUSTRIAL AND SYSTEMS ENGINEERING', 'INFORMATION SCIENCE',\n",
       "       'MANAGEMENT', 'COMMERCE', 'DENTISTRY', 'PHARMACY',\n",
       "       'AEROSPACE ENGINEERING', 'MATERIALS SCIENCE AND ENGINEERING',\n",
       "       'ELECTRONICS AND COMMUNICATIONS ENGINEERING',\n",
       "       'SCIENCE (INFORMATION TECHNOLOGY)', 'SEE H14',\n",
       "       'COMPUTER SCIENCE AND INFORMATION TECHNOLOGY', 'BIOSTATISTICS',\n",
       "       'SCIENCE (COMPUTER APPLICATIONS)', 'DATA SCIENCE', 'EDUCATION',\n",
       "       'COMPUTER NETWORKING', 'ELECTRICAL  COMPUTER ENGINEERING', 'MARKETING',\n",
       "       'OPERATIONS RESEARCH', 'ELECTRICAL  ELECTRONICS ENGINEERING',\n",
       "       'APPLIED MATHEMATICS', 'COMPUTER SCIENCE ENGINEERING',\n",
       "       'ELECTRONICS AND TELECOMMUNICATION ENGINEERING', 'APPLIED STATISTICS',\n",
       "       'INFORMATION TECHNOLOGY MANAGEMENT', 'SUPPLY CHAIN MANAGEMENT',\n",
       "       'ELECTRONICS & COMMUNICATION ENGINEERING', 'SYSTEMS ENGINEERING',\n",
       "       'COMPUTER INFORMATION SYSTEMS AND INFORMATION TECHNOLOGY',\n",
       "       'AUTOMOTIVE ENGINEERING', 'INFORMATION NETWORKING'],\n",
       "      dtype='object')"
      ]
     },
     "execution_count": 8,
     "metadata": {},
     "output_type": "execute_result"
    }
   ],
   "source": [
    "tmp.index"
   ]
  },
  {
   "cell_type": "code",
   "execution_count": 32,
   "metadata": {},
   "outputs": [],
   "source": [
    "application = h1b_application_new[~h1b_application_new.FOREIGN_WORKER_INFO_MAJOR.isin(['SEE H-14', 'SEE H.14'])]"
   ]
  },
  {
   "cell_type": "code",
   "execution_count": 37,
   "metadata": {},
   "outputs": [
    {
     "name": "stderr",
     "output_type": "stream",
     "text": [
      "/Library/Frameworks/Python.framework/Versions/3.9/lib/python3.9/site-packages/pandas/core/frame.py:4906: SettingWithCopyWarning: \n",
      "A value is trying to be set on a copy of a slice from a DataFrame\n",
      "\n",
      "See the caveats in the documentation: https://pandas.pydata.org/pandas-docs/stable/user_guide/indexing.html#returning-a-view-versus-a-copy\n",
      "  return super().drop(\n"
     ]
    }
   ],
   "source": [
    "application.drop('Unnamed: 0', axis=1, inplace=True)"
   ]
  },
  {
   "cell_type": "code",
   "execution_count": 25,
   "metadata": {},
   "outputs": [],
   "source": [
    "application.JOB_TITLE = application.JOB_TITLE.apply(lambda s: s.title())"
   ]
  },
  {
   "cell_type": "code",
   "execution_count": 27,
   "metadata": {},
   "outputs": [
    {
     "data": {
      "text/plain": [
       "User Experience Design Specialist       1\n",
       "Sr. Big Data Engineer                   4\n",
       "SAS Developer                           4\n",
       "Senior Interior Designer                4\n",
       "Senior iOS Developer                    7\n",
       "                                     ... \n",
       "Software Development Engineer II     2872\n",
       "Software Development Engineer II     2872\n",
       "Software Development Engineer II     2872\n",
       "Software Development Engineer II     2872\n",
       "Software Development Engineer II     2872\n",
       "Name: JOB_TITLE, Length: 31882, dtype: int64"
      ]
     },
     "execution_count": 27,
     "metadata": {},
     "output_type": "execute_result"
    }
   ],
   "source": [
    "application.JOB_TITLE.value_counts()[application.JOB_TITLE.value_counts()]"
   ]
  },
  {
   "cell_type": "code",
   "execution_count": 39,
   "metadata": {},
   "outputs": [],
   "source": [
    "application.to_csv('h1b_application.csv')"
   ]
  }
 ],
 "metadata": {
  "interpreter": {
   "hash": "aee8b7b246df8f9039afb4144a1f6fd8d2ca17a180786b69acc140d282b71a49"
  },
  "kernelspec": {
   "display_name": "Python 3.9.5 64-bit",
   "language": "python",
   "name": "python3"
  },
  "language_info": {
   "codemirror_mode": {
    "name": "ipython",
    "version": 3
   },
   "file_extension": ".py",
   "mimetype": "text/x-python",
   "name": "python",
   "nbconvert_exporter": "python",
   "pygments_lexer": "ipython3",
   "version": "3.8.2"
  },
  "orig_nbformat": 4
 },
 "nbformat": 4,
 "nbformat_minor": 2
}
